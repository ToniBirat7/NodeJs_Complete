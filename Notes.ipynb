{
 "cells": [
  {
   "cell_type": "markdown",
   "id": "499c19a1",
   "metadata": {},
   "source": [
    "## **Intro**\n",
    "\n",
    "`ES6` is the modern version of JavaScript, which includes many new features and improvements over the previous versions. This cheat sheet provides a quick reference to some of the most commonly used ES6 features.\n",
    "\n",
    "### **Chrome V8 Engine**\n",
    "\n",
    "The Chrome V8 engine is an open-source JavaScript engine developed by Google for the Chrome browser. It is designed to execute JavaScript code quickly and efficiently, making it a popular choice for web applications.\n",
    "\n",
    "`Node` is built on the V8 engine, which allows it to run JavaScript code outside of the browser environment. This enables developers to use JavaScript for server-side programming, creating a unified language for both client-side and server-side development.\n",
    "\n",
    "`V8` is written in C++ and is known for its high performance and low memory usage. It compiles JavaScript code to machine code at runtime, which allows it to execute code quickly. The V8 engine also includes a garbage collector that automatically manages memory, freeing up resources when they are no longer needed.\n",
    "\n",
    "This allows us to write our own `C++` code and use it in `Node.js` as a native module. This is useful for performance-critical applications or when we need to access low-level system resources.\n",
    "\n",
    "### **JavaScript Runtime**\n",
    "\n",
    "A JavaScript runtime is an environment that allows JavaScript code to be executed. It provides the necessary APIs and libraries for running JavaScript outside of a web browser. The most popular JavaScript runtime is `Node.js`, which is built on the V8 engine.\n",
    "\n",
    "Every browser has its own JavaScript runtime, which allows it to execute JavaScript code. The runtime provides access to the browser's APIs, such as the DOM (Document Object Model) and the BOM (Browser Object Model), enabling developers to interact with web pages and perform various tasks.\n",
    "\n",
    "Below are the components of a JavaScript runtime:\n",
    "\n",
    "**v8 Engine**: The core JavaScript engine that executes JavaScript code. It compiles JavaScript to machine code for fast execution. The `V8` engine has `Call Stack`, and `Heap` memory for managing function calls and objects, respectively.\n",
    "\n",
    "**Web APIs**: A set of APIs provided by the browser that allows JavaScript to interact with the browser and perform tasks such as manipulating the DOM, making network requests, and handling events.\n",
    "\n",
    "Web APIs are not part of the JavaScript language itself but are provided by the browser environment. Examples include `XMLHttpRequest`, `fetch`, `DOM manipulation`, and `event handling`.\n",
    "\n",
    "**Event Loop**: A mechanism that allows JavaScript to handle asynchronous operations. It manages the execution of code, events, and messages in a non-blocking manner. It continuously checks the call stack and the callback queue to determine what to execute next.\n",
    "\n",
    "**Callback Queue**: A queue that holds callbacks for asynchronous operations. When an asynchronous operation completes, its callback is added to the queue, and the event loop processes it when the call stack is empty.\n",
    "\n",
    "**Call Stack**: A stack that keeps track of function calls. When a function is called, it is added to the stack, and when it returns, it is removed from the stack. The call stack is used to manage the execution context of functions.\n",
    "\n",
    "**Microtask Queue**: A queue that holds microtasks, which are tasks that need to be executed after the current task but before the next event loop iteration. Microtasks include promises and mutation observers.\n",
    "\n",
    "So, to provide a run time outside the browser, we need to have `Node.js`.\n",
    "\n",
    "### **Node.js**\n",
    "\n",
    "`Node.js` is a JavaScript runtime built on the V8 engine that allows developers to run JavaScript code outside of a web browser. It provides a rich set of APIs for building server-side applications, making it a popular choice for web development.\n",
    "\n",
    "Node.js is designed to be lightweight and efficient, using an event-driven, non-blocking I/O model. This makes it suitable for building scalable network applications that can handle a large number of concurrent connections.\n",
    "\n",
    "Node.js is built on the V8 engine, which compiles JavaScript code to machine code for fast execution. It also includes a built-in package manager called `npm` (Node Package Manager), which allows developers to easily install and manage third-party libraries and modules.\n",
    "\n",
    "Nodejs does not have access to the browser's APIs, such as the DOM and BOM, because it is designed to run outside of a web browser. Instead, it provides its own set of APIs for file system access, networking, and other server-side tasks.\n",
    "\n",
    "[Github](https://github.com/nodejs/node)\n",
    "\n",
    "[NodeJs_Github_Explanation](https://www.youtube.com/watch?v=XQT6XiJt4DE&list=PLC3y8-rFHvwh8shCMHFA5kWxD9PaPwxaY&index=5)\n"
   ]
  }
 ],
 "metadata": {
  "language_info": {
   "name": "python"
  }
 },
 "nbformat": 4,
 "nbformat_minor": 5
}
